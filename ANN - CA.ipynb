{
 "cells": [
  {
   "cell_type": "code",
   "execution_count": 27,
   "id": "abd884be",
   "metadata": {},
   "outputs": [],
   "source": [
    "import numpy as np\n",
    "import pandas as pd\n",
    "from sklearn.preprocessing import StandardScaler\n",
    "from sklearn.model_selection import train_test_split\n",
    "from sklearn.metrics import accuracy_score"
   ]
  },
  {
   "cell_type": "code",
   "execution_count": 10,
   "id": "f69f1cf0",
   "metadata": {},
   "outputs": [],
   "source": [
    "df = pd.read_csv(\"Bank_Personal_Loan_Modelling.csv\")\n",
    "df = df = df = df[['Age', 'Experience', 'Income', 'ZIP Code', 'Family', 'CCAvg',\n",
    "       'Education', 'Mortgage', 'Securities Account',\n",
    "       'CD Account', 'Online', 'CreditCard', 'Personal Loan']]"
   ]
  },
  {
   "cell_type": "code",
   "execution_count": 12,
   "id": "36ae0528",
   "metadata": {},
   "outputs": [],
   "source": [
    "x = df.iloc[:,:-1].values\n",
    "y = df.iloc[:,-1].values"
   ]
  },
  {
   "cell_type": "code",
   "execution_count": 14,
   "id": "9ca7be6f",
   "metadata": {},
   "outputs": [],
   "source": [
    "sc = StandardScaler()\n",
    "x = sc.fit_transform(x)"
   ]
  },
  {
   "cell_type": "code",
   "execution_count": 41,
   "id": "0270f679",
   "metadata": {},
   "outputs": [],
   "source": [
    "class NeuralNetwork:\n",
    "    \n",
    "    def __init__(self, num_inputs, num_hidden, num_outputs):\n",
    "        self.weights1 = np.random.randn(num_inputs, num_hidden)\n",
    "        self.bias1 = np.zeros((1, num_hidden))\n",
    "        self.weights2 = np.random.randn(num_hidden, num_outputs)\n",
    "        self.bias2 = np.zeros((1, num_outputs))\n",
    "         \n",
    "    def forward(self, inputs):\n",
    "        self.hidden = np.maximum(0, np.dot(inputs, self.weights1) + self.bias1)\n",
    "        self.output = sigmoid(np.dot(self.hidden, self.weights2) + self.bias2)\n",
    "        return self.output\n",
    "    \n",
    "    def get_weights(self):\n",
    "        return np.concatenate([self.weights1.ravel(), self.bias1.ravel(), \n",
    "                               self.weights2.ravel(), self.bias2.ravel()])\n",
    "    \n",
    "    def set_weights(self, weights):\n",
    "        w1_start = 0\n",
    "        w1_end = self.weights1.size\n",
    "        self.weights1 = np.reshape(weights[w1_start:w1_end], (self.weights1.shape))\n",
    "        w2_start = w1_end\n",
    "        w2_end = w2_start + self.weights2.size\n",
    "        self.weights2 = np.reshape(weights[w2_start:w2_end], (self.weights2.shape))\n",
    "        b1_start = w2_end\n",
    "        b1_end = b1_start + self.bias1.size\n",
    "        self.bias1 = np.reshape(weights[b1_start:b1_end], (self.bias1.shape))\n",
    "        b2_start = b1_end\n",
    "        b2_end = b2_start + self.bias2.size\n",
    "        self.bias2 = np.reshape(weights[b2_start:b2_end], (self.bias2.shape))\n",
    "\n",
    "def sigmoid(x):\n",
    "        return 1 / (1 + np.exp(-x))  \n",
    "\n",
    "class CulturalAlgorithm:\n",
    "    def __init__(self, model, population_size, generations, p_accept):\n",
    "        self.model = model\n",
    "        self.population_size = population_size\n",
    "        self.generations = generations\n",
    "        self.p_accept = p_accept\n",
    "    \n",
    "    def evaluate_fitness(self, individual, X, y):\n",
    "        self.model.set_weights(individual)\n",
    "        output = self.model.forward(X)\n",
    "        error_rate = np.mean(np.abs(y - output))\n",
    "        fitness = 1 - error_rate\n",
    "        return fitness\n",
    "    \n",
    "    def update_cultural_knowledge(self, population):\n",
    "        pass\n",
    "    \n",
    "    def evolve_population(self, population):\n",
    "        pass\n",
    "    \n",
    "    def fit(self, X, y):\n",
    "        num_weights = len(self.model.get_weights())\n",
    "        population = np.random.randn(self.population_size, num_weights)\n",
    "        fitness_scores = np.zeros(self.population_size)\n",
    "        for i in range(self.generations):\n",
    "            \n",
    "            for j in range(self.population_size):\n",
    "                fitness_scores[j] = self.evaluate_fitness(population[j], X, y)\n",
    "            \n",
    "            # Sort the population by fitness\n",
    "            sorted_indices = np.argsort(fitness_scores)[::-1]\n",
    "            population = population[sorted_indices]\n",
    "            fitness_scores = fitness_scores[sorted_indices]\n",
    "            \n",
    "            # Update cultural knowledge and evolve population\n",
    "            self.update_cultural_knowledge(population)\n",
    "            self.evolve_population(population)\n",
    "            \n",
    "            # Select parents for crossover\n",
    "            parents = np.zeros((self.population_size, num_weights))\n",
    "            num_parents = int(self.population_size * (1 - self.p_accept))\n",
    "            for k in range(num_parents):\n",
    "                parents[k] = population[k]\n",
    "            \n",
    "            # Crossover \n",
    "            for k in range(num_parents, self.population_size):\n",
    "                parent1_idx = np.random.randint(0, num_parents)\n",
    "                parent2_idx = np.random.randint(0, num_parents)\n",
    "                crossover_point = np.random.randint(0, num_weights)\n",
    "                parents_weights1 = parents[parent1_idx][:crossover_point]\n",
    "                parents_weights2 = parents[parent2_idx][crossover_point:]\n",
    "                offspring_weights = np.concatenate((parents_weights1, parents_weights2))\n",
    "                population[k] = offspring_weights\n",
    "            \n",
    "            # Mutation\n",
    "            for j in range(num_parents, self.population_size):\n",
    "                for k in range(num_weights):\n",
    "                    if np.random.rand() < 0.1:\n",
    "                        population[j][k] += np.random.randn() * 0.1\n",
    "                        population[j][k] = np.clip(population[j][k], -5, 5)\n",
    "            \n",
    "            print(\"Generation :\",i+1)\n",
    "            print(\"fitness score :\",np.average(fitness_scores))\n",
    "        \n",
    "        # Find the best individual\n",
    "        best_index = np.argmax(fitness_scores)\n",
    "        best_individual = population[best_index]\n",
    "        self.model.set_weights(best_individual)\n"
   ]
  },
  {
   "cell_type": "code",
   "execution_count": 40,
   "id": "d405f449",
   "metadata": {},
   "outputs": [
    {
     "name": "stdout",
     "output_type": "stream",
     "text": [
      "Generation : 0\n",
      "fitness score : 0.5537176516155693\n",
      "Generation : 1\n",
      "fitness score : 0.7238765475818348\n",
      "Generation : 2\n",
      "fitness score : 0.8047027144270519\n",
      "Generation : 3\n",
      "fitness score : 0.8506677160579731\n",
      "Generation : 4\n",
      "fitness score : 0.8697814856352473\n",
      "Generation : 5\n",
      "fitness score : 0.8802253620757513\n",
      "Generation : 6\n",
      "fitness score : 0.8883135234663656\n",
      "Generation : 7\n",
      "fitness score : 0.8910028209811274\n",
      "Generation : 8\n",
      "fitness score : 0.8933403300521191\n",
      "Generation : 9\n",
      "fitness score : 0.8953904559708874\n"
     ]
    }
   ],
   "source": [
    "num_inputs = x.shape[1]\n",
    "num_hidden = 8\n",
    "num_outputs = 1\n",
    "model = NeuralNetwork(num_inputs, num_hidden, num_outputs)\n",
    "\n",
    "\n",
    "population_size = 50\n",
    "generations = 10\n",
    "p_accept = 0.5\n",
    "ca = CulturalAlgorithm(model, population_size, generations, p_accept)\n",
    "ca.fit(x, y)\n",
    "\n",
    "\n",
    "y_pred = np.round(model.forward(x))\n",
    "accuracy = accuracy_score(y, y_pred)"
   ]
  },
  {
   "cell_type": "code",
   "execution_count": 42,
   "id": "bf658e19",
   "metadata": {},
   "outputs": [
    {
     "data": {
      "text/plain": [
       "0.904"
      ]
     },
     "execution_count": 42,
     "metadata": {},
     "output_type": "execute_result"
    }
   ],
   "source": [
    "accuracy"
   ]
  }
 ],
 "metadata": {
  "kernelspec": {
   "display_name": "Python 3 (ipykernel)",
   "language": "python",
   "name": "python3"
  },
  "language_info": {
   "codemirror_mode": {
    "name": "ipython",
    "version": 3
   },
   "file_extension": ".py",
   "mimetype": "text/x-python",
   "name": "python",
   "nbconvert_exporter": "python",
   "pygments_lexer": "ipython3",
   "version": "3.11.2"
  }
 },
 "nbformat": 4,
 "nbformat_minor": 5
}
