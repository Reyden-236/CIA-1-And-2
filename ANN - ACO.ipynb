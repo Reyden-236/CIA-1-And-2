{
 "cells": [
  {
   "cell_type": "code",
   "execution_count": 16,
   "id": "682c443d",
   "metadata": {},
   "outputs": [],
   "source": [
    "import pandas as pd\n",
    "from sklearn.model_selection import train_test_split\n",
    "from sklearn.preprocessing import StandardScaler\n",
    "from tensorflow.keras.models import Sequential\n",
    "from tensorflow.keras.layers import Dense\n",
    "from tensorflow.keras.optimizers.legacy import Adam"
   ]
  },
  {
   "cell_type": "code",
   "execution_count": 6,
   "id": "e6554d1c",
   "metadata": {},
   "outputs": [],
   "source": [
    "df = pd.read_csv(\"Bank_Personal_Loan_Modelling.csv\")\n",
    "df = df = df = df[['Age', 'Experience', 'Income', 'ZIP Code', 'Family', 'CCAvg',\n",
    "       'Education', 'Mortgage', 'Securities Account',\n",
    "       'CD Account', 'Online', 'CreditCard', 'Personal Loan']]"
   ]
  },
  {
   "cell_type": "code",
   "execution_count": 7,
   "id": "466e6353",
   "metadata": {},
   "outputs": [],
   "source": [
    "X = df.iloc[:,:-1].values\n",
    "y = df.iloc[:,-1].values"
   ]
  },
  {
   "cell_type": "code",
   "execution_count": 8,
   "id": "3e130386",
   "metadata": {},
   "outputs": [],
   "source": [
    "sc = StandardScaler()\n",
    "X = sc.fit_transform(X)"
   ]
  },
  {
   "cell_type": "code",
   "execution_count": 9,
   "id": "0ea937a5",
   "metadata": {},
   "outputs": [],
   "source": [
    "X_train, X_test, y_train, y_test = train_test_split(X, y, test_size=0.2, random_state=42)\n",
    "X_train, X_val, y_train, y_val = train_test_split(X_train, y_train, test_size=0.25, random_state=42)"
   ]
  },
  {
   "cell_type": "code",
   "execution_count": 10,
   "id": "327cd131",
   "metadata": {},
   "outputs": [],
   "source": [
    "import numpy as np\n",
    "\n",
    "class AntColonyOptimizer:\n",
    "    \n",
    "    def __init__(self, cost_func, dimensions, colony_size, min_values, max_values, iterations, alpha=1, beta=1, rho=0.1):\n",
    "        self.cost_func = cost_func\n",
    "        self.dimensions = dimensions\n",
    "        self.colony_size = colony_size\n",
    "        self.min_values = min_values\n",
    "        self.max_values = max_values\n",
    "        self.iterations = iterations\n",
    "        self.alpha = alpha\n",
    "        self.beta = beta\n",
    "        self.rho = rho\n",
    "        \n",
    "        self.best_params = None\n",
    "        self.best_score = float('-inf')\n",
    "        \n",
    "    def initialize_pheromone_trails(self):\n",
    "        self.pheromone_trails = np.ones((self.dimensions, self.colony_size)) / self.dimensions\n",
    "        \n",
    "    def run(self):\n",
    "        self.initialize_pheromone_trails()\n",
    "        for i in range(self.iterations):\n",
    "            solutions = self.generate_solutions()\n",
    "            scores = np.array([self.cost_func(sol) for sol in solutions])\n",
    "            best_index = np.argmax(scores)\n",
    "            if scores[best_index] > self.best_score:\n",
    "                self.best_score = scores[best_index]\n",
    "                self.best_params = solutions[best_index]\n",
    "            self.update_pheromone_trails(solutions, scores)\n",
    "        return self.best_params, self.best_score\n",
    "            \n",
    "    def generate_solutions(self):\n",
    "        solutions = []\n",
    "        for ant in range(self.colony_size):\n",
    "            solution = []\n",
    "            for dim in range(self.dimensions):\n",
    "                prob = self.pheromone_trails[dim] ** self.alpha * (1.0 / (self.max_values[dim] - self.min_values[dim])) ** self.beta\n",
    "                prob /= np.sum(prob)\n",
    "                value = np.random.choice(np.arange(self.colony_size), p=prob)\n",
    "                solution.append(value)\n",
    "            solutions.append(solution)\n",
    "        return solutions\n",
    "    \n",
    "    def update_pheromone_trails(self, solutions, scores):\n",
    "        delta_pheromone_trails = np.zeros((self.dimensions, self.colony_size))\n",
    "        for i, solution in enumerate(solutions):\n",
    "            for j, value in enumerate(solution):\n",
    "                delta_pheromone_trails[j][value] += scores[i]\n",
    "        self.pheromone_trails = self.rho * self.pheromone_trails + delta_pheromone_trails\n"
   ]
  },
  {
   "cell_type": "code",
   "execution_count": 13,
   "id": "b819fc61",
   "metadata": {},
   "outputs": [],
   "source": [
    "def cost_function(params):\n",
    "    neurons = int(params[0])\n",
    "    learning_rate = params[1]\n",
    "    model = Sequential()\n",
    "    model.add(Dense(neurons, input_dim=X_train.shape[1], activation='relu'))\n",
    "    model.add(Dense(1, activation='sigmoid'))\n",
    "    model.compile(loss='binary_crossentropy', optimizer=Adam(lr=learning_rate), metrics=['accuracy'])\n",
    "    model.fit(X_train, y_train, epochs=10, batch_size=10)\n",
    "    _, val_acc = model.evaluate(X_val, y_val)\n",
    "    return val_acc\n"
   ]
  },
  {
   "cell_type": "code",
   "execution_count": 18,
   "id": "66477c1b",
   "metadata": {},
   "outputs": [
    {
     "name": "stdout",
     "output_type": "stream",
     "text": [
      "Best hyperparameters: [0, 2]\n",
      "Best validation accuracy: 0.890999972820282\n",
      "Test accuracy with best hyperparameters: 0.8949999809265137\n"
     ]
    }
   ],
   "source": [
    "aco = AntColonyOptimizer(cost_function, dimensions=2, colony_size=10, min_values=[1, 0.001], max_values=[100, 0.1], iterations=20, alpha=1, beta=1, rho=0.1)\n",
    "best_params, best_score = aco.run()\n",
    "\n",
    "neurons = int(best_params[0])\n",
    "learning_rate = best_params[1]\n",
    "model = Sequential()\n",
    "model.add(Dense(neurons, input_dim=X_train.shape[1], activation='relu'))\n",
    "model.add(Dense(1, activation='sigmoid'))\n",
    "model.compile(loss='binary_crossentropy', optimizer=Adam(learning_rate=learning_rate), metrics=['accuracy'])\n",
    "model.fit(X_train, y_train, epochs=10, batch_size=10)\n",
    "_, test_acc = model.evaluate(X_test, y_test)\n",
    "\n",
    "print(f\"Best hyperparameters: {best_params}\")\n",
    "print(f\"Best validation accuracy: {best_score}\")\n",
    "print(f\"accuracy with best hyperparameters: {test_acc}\")"
   ]
  },
  {
   "cell_type": "code",
   "execution_count": null,
   "id": "d4916d9f",
   "metadata": {},
   "outputs": [],
   "source": []
  }
 ],
 "metadata": {
  "kernelspec": {
   "display_name": "Python 3 (ipykernel)",
   "language": "python",
   "name": "python3"
  },
  "language_info": {
   "codemirror_mode": {
    "name": "ipython",
    "version": 3
   },
   "file_extension": ".py",
   "mimetype": "text/x-python",
   "name": "python",
   "nbconvert_exporter": "python",
   "pygments_lexer": "ipython3",
   "version": "3.11.2"
  }
 },
 "nbformat": 4,
 "nbformat_minor": 5
}
