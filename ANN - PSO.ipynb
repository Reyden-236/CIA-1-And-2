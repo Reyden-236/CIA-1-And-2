{
 "cells": [
  {
   "cell_type": "code",
   "execution_count": 20,
   "id": "5e80b81e",
   "metadata": {},
   "outputs": [],
   "source": [
    "from sklearn.preprocessing import StandardScaler\n",
    "from sklearn.model_selection import train_test_split\n",
    "import numpy as np\n",
    "import pandas as pd\n",
    "from keras.models import Sequential\n",
    "from keras.layers import Dense\n",
    "from pyswarms.single import GlobalBestPSO\n",
    "import time"
   ]
  },
  {
   "cell_type": "code",
   "execution_count": 69,
   "id": "17b68709",
   "metadata": {},
   "outputs": [],
   "source": [
    "df = pd.read_csv(\"Bank_Personal_Loan_Modelling.csv\")\n",
    "df = df = df[['Age', 'Experience', 'Income', 'ZIP Code', 'Family', 'CCAvg',\n",
    "       'Education', 'Mortgage', 'Securities Account',\n",
    "       'CD Account', 'Online', 'CreditCard', 'Personal Loan']]"
   ]
  },
  {
   "cell_type": "code",
   "execution_count": 70,
   "id": "fc4e68df",
   "metadata": {},
   "outputs": [],
   "source": [
    "X = df.iloc[:,:-1].values\n",
    "Y = df.iloc[:,-1].values\n",
    "n_features = X.shape[1]\n",
    "n_classes = len(df['Personal Loan'].unique())"
   ]
  },
  {
   "cell_type": "code",
   "execution_count": 71,
   "id": "28da158a",
   "metadata": {},
   "outputs": [],
   "source": [
    "sc = StandardScaler()\n",
    "X = sc.fit_transform(X)"
   ]
  },
  {
   "cell_type": "code",
   "execution_count": 72,
   "id": "356c942e",
   "metadata": {},
   "outputs": [],
   "source": [
    "X_train, X_test, Y_train, Y_test = train_test_split(X, Y, test_size=0.3, random_state=32)\n"
   ]
  },
  {
   "cell_type": "code",
   "execution_count": 86,
   "id": "e422986d",
   "metadata": {},
   "outputs": [],
   "source": [
    "def create_custom_model(input_dim, output_dim, nodes, n=1, name='model'):\n",
    "    model = Sequential(name=name)\n",
    "    for i in range(n):\n",
    "        model.add(Dense(nodes, input_dim=input_dim, activation='relu'))\n",
    "    \n",
    "    model.add(Dense(1, activation='sigmoid'))\n",
    "    model.compile(loss='binary_crossentropy',optimizer='adam',metrics=['accuracy'])\n",
    "    return model"
   ]
  },
  {
   "cell_type": "code",
   "execution_count": 88,
   "id": "76482701",
   "metadata": {
    "collapsed": true
   },
   "outputs": [
    {
     "name": "stdout",
     "output_type": "stream",
     "text": [
      "Model: \"model\"\n",
      "_________________________________________________________________\n",
      " Layer (type)                Output Shape              Param #   \n",
      "=================================================================\n",
      " dense_27 (Dense)            (None, 4)                 52        \n",
      "                                                                 \n",
      " dense_28 (Dense)            (None, 4)                 20        \n",
      "                                                                 \n",
      " dense_29 (Dense)            (None, 1)                 5         \n",
      "                                                                 \n",
      "=================================================================\n",
      "Total params: 77\n",
      "Trainable params: 77\n",
      "Non-trainable params: 0\n",
      "_________________________________________________________________\n",
      "Epoch 1/50\n",
      "700/700 [==============================] - 1s 1ms/step - loss: 0.3604 - accuracy: 0.9051 - val_loss: 0.2584 - val_accuracy: 0.9013\n",
      "Epoch 2/50\n",
      "700/700 [==============================] - 1s 952us/step - loss: 0.2222 - accuracy: 0.9051 - val_loss: 0.2182 - val_accuracy: 0.9013\n",
      "Epoch 3/50\n",
      "700/700 [==============================] - 1s 1ms/step - loss: 0.1944 - accuracy: 0.9051 - val_loss: 0.1974 - val_accuracy: 0.9013\n",
      "Epoch 4/50\n",
      "700/700 [==============================] - 1s 979us/step - loss: 0.1754 - accuracy: 0.9051 - val_loss: 0.1828 - val_accuracy: 0.9013\n",
      "Epoch 5/50\n",
      "700/700 [==============================] - 1s 1ms/step - loss: 0.1587 - accuracy: 0.9069 - val_loss: 0.1703 - val_accuracy: 0.9113\n",
      "Epoch 6/50\n",
      "700/700 [==============================] - 1s 965us/step - loss: 0.1436 - accuracy: 0.9391 - val_loss: 0.1562 - val_accuracy: 0.9373\n",
      "Epoch 7/50\n",
      "700/700 [==============================] - 1s 1ms/step - loss: 0.1310 - accuracy: 0.9491 - val_loss: 0.1454 - val_accuracy: 0.9420\n",
      "Epoch 8/50\n",
      "700/700 [==============================] - 1s 1ms/step - loss: 0.1224 - accuracy: 0.9514 - val_loss: 0.1380 - val_accuracy: 0.9460\n",
      "Epoch 9/50\n",
      "700/700 [==============================] - 1s 1ms/step - loss: 0.1164 - accuracy: 0.9549 - val_loss: 0.1331 - val_accuracy: 0.9500\n",
      "Epoch 10/50\n",
      "700/700 [==============================] - 1s 961us/step - loss: 0.1123 - accuracy: 0.9557 - val_loss: 0.1285 - val_accuracy: 0.9513\n",
      "Epoch 11/50\n",
      "700/700 [==============================] - 1s 970us/step - loss: 0.1089 - accuracy: 0.9574 - val_loss: 0.1243 - val_accuracy: 0.9527\n",
      "Epoch 12/50\n",
      "700/700 [==============================] - 1s 951us/step - loss: 0.1060 - accuracy: 0.9597 - val_loss: 0.1245 - val_accuracy: 0.9520\n",
      "Epoch 13/50\n",
      "700/700 [==============================] - 1s 992us/step - loss: 0.1040 - accuracy: 0.9620 - val_loss: 0.1201 - val_accuracy: 0.9547\n",
      "Epoch 14/50\n",
      "700/700 [==============================] - 1s 956us/step - loss: 0.1014 - accuracy: 0.9634 - val_loss: 0.1201 - val_accuracy: 0.9547\n",
      "Epoch 15/50\n",
      "700/700 [==============================] - 1s 998us/step - loss: 0.1002 - accuracy: 0.9634 - val_loss: 0.1168 - val_accuracy: 0.9540\n",
      "Epoch 16/50\n",
      "700/700 [==============================] - 1s 956us/step - loss: 0.0978 - accuracy: 0.9657 - val_loss: 0.1130 - val_accuracy: 0.9560\n",
      "Epoch 17/50\n",
      "700/700 [==============================] - 1s 970us/step - loss: 0.0937 - accuracy: 0.9666 - val_loss: 0.1106 - val_accuracy: 0.9553\n",
      "Epoch 18/50\n",
      "700/700 [==============================] - 1s 969us/step - loss: 0.0897 - accuracy: 0.9660 - val_loss: 0.1073 - val_accuracy: 0.9573\n",
      "Epoch 19/50\n",
      "700/700 [==============================] - 1s 965us/step - loss: 0.0853 - accuracy: 0.9689 - val_loss: 0.1029 - val_accuracy: 0.9607\n",
      "Epoch 20/50\n",
      "700/700 [==============================] - 1s 946us/step - loss: 0.0821 - accuracy: 0.9689 - val_loss: 0.0993 - val_accuracy: 0.9633\n",
      "Epoch 21/50\n",
      "700/700 [==============================] - 1s 937us/step - loss: 0.0790 - accuracy: 0.9723 - val_loss: 0.0962 - val_accuracy: 0.9653\n",
      "Epoch 22/50\n",
      "700/700 [==============================] - 1s 958us/step - loss: 0.0765 - accuracy: 0.9714 - val_loss: 0.0919 - val_accuracy: 0.9687\n",
      "Epoch 23/50\n",
      "700/700 [==============================] - 1s 953us/step - loss: 0.0740 - accuracy: 0.9754 - val_loss: 0.0891 - val_accuracy: 0.9693\n",
      "Epoch 24/50\n",
      "700/700 [==============================] - 1s 953us/step - loss: 0.0723 - accuracy: 0.9766 - val_loss: 0.0866 - val_accuracy: 0.9687\n",
      "Epoch 25/50\n",
      "700/700 [==============================] - 1s 948us/step - loss: 0.0708 - accuracy: 0.9757 - val_loss: 0.0872 - val_accuracy: 0.9680\n",
      "Epoch 26/50\n",
      "700/700 [==============================] - 1s 959us/step - loss: 0.0703 - accuracy: 0.9751 - val_loss: 0.0842 - val_accuracy: 0.9707\n",
      "Epoch 27/50\n",
      "700/700 [==============================] - 1s 954us/step - loss: 0.0686 - accuracy: 0.9780 - val_loss: 0.0837 - val_accuracy: 0.9713\n",
      "Epoch 28/50\n",
      "700/700 [==============================] - 1s 991us/step - loss: 0.0679 - accuracy: 0.9757 - val_loss: 0.0801 - val_accuracy: 0.9727\n",
      "Epoch 29/50\n",
      "700/700 [==============================] - 1s 948us/step - loss: 0.0668 - accuracy: 0.9786 - val_loss: 0.0812 - val_accuracy: 0.9707\n",
      "Epoch 30/50\n",
      "700/700 [==============================] - 1s 952us/step - loss: 0.0664 - accuracy: 0.9786 - val_loss: 0.0792 - val_accuracy: 0.9727\n",
      "Epoch 31/50\n",
      "700/700 [==============================] - 1s 959us/step - loss: 0.0654 - accuracy: 0.9797 - val_loss: 0.0779 - val_accuracy: 0.9747\n",
      "Epoch 32/50\n",
      "700/700 [==============================] - 1s 942us/step - loss: 0.0644 - accuracy: 0.9789 - val_loss: 0.0771 - val_accuracy: 0.9740\n",
      "Epoch 33/50\n",
      "700/700 [==============================] - 1s 1ms/step - loss: 0.0634 - accuracy: 0.9774 - val_loss: 0.0760 - val_accuracy: 0.9720\n",
      "Epoch 34/50\n",
      "700/700 [==============================] - 1s 1ms/step - loss: 0.0622 - accuracy: 0.9791 - val_loss: 0.0768 - val_accuracy: 0.9720\n",
      "Epoch 35/50\n",
      "700/700 [==============================] - 1s 992us/step - loss: 0.0620 - accuracy: 0.9791 - val_loss: 0.0765 - val_accuracy: 0.9700\n",
      "Epoch 36/50\n",
      "700/700 [==============================] - 1s 968us/step - loss: 0.0620 - accuracy: 0.9774 - val_loss: 0.0732 - val_accuracy: 0.9727\n",
      "Epoch 37/50\n",
      "700/700 [==============================] - 1s 984us/step - loss: 0.0609 - accuracy: 0.9786 - val_loss: 0.0738 - val_accuracy: 0.9740\n",
      "Epoch 38/50\n",
      "700/700 [==============================] - 1s 965us/step - loss: 0.0603 - accuracy: 0.9791 - val_loss: 0.0707 - val_accuracy: 0.9740\n",
      "Epoch 39/50\n",
      "700/700 [==============================] - 1s 970us/step - loss: 0.0602 - accuracy: 0.9806 - val_loss: 0.0713 - val_accuracy: 0.9720\n",
      "Epoch 40/50\n",
      "700/700 [==============================] - 1s 992us/step - loss: 0.0578 - accuracy: 0.9800 - val_loss: 0.0737 - val_accuracy: 0.9747\n",
      "Epoch 41/50\n",
      "700/700 [==============================] - 1s 975us/step - loss: 0.0587 - accuracy: 0.9786 - val_loss: 0.0688 - val_accuracy: 0.9753\n",
      "Epoch 42/50\n",
      "700/700 [==============================] - 1s 948us/step - loss: 0.0584 - accuracy: 0.9800 - val_loss: 0.0710 - val_accuracy: 0.9740\n",
      "Epoch 43/50\n",
      "700/700 [==============================] - 1s 985us/step - loss: 0.0580 - accuracy: 0.9811 - val_loss: 0.0718 - val_accuracy: 0.9733\n",
      "Epoch 44/50\n",
      "700/700 [==============================] - 1s 964us/step - loss: 0.0576 - accuracy: 0.9823 - val_loss: 0.0709 - val_accuracy: 0.9720\n",
      "Epoch 45/50\n",
      "700/700 [==============================] - 1s 965us/step - loss: 0.0575 - accuracy: 0.9809 - val_loss: 0.0729 - val_accuracy: 0.9720\n",
      "Epoch 46/50\n",
      "700/700 [==============================] - 1s 998us/step - loss: 0.0573 - accuracy: 0.9817 - val_loss: 0.0698 - val_accuracy: 0.9747\n",
      "Epoch 47/50\n",
      "700/700 [==============================] - 1s 999us/step - loss: 0.0572 - accuracy: 0.9814 - val_loss: 0.0707 - val_accuracy: 0.9740\n",
      "Epoch 48/50\n",
      "700/700 [==============================] - 1s 964us/step - loss: 0.0572 - accuracy: 0.9794 - val_loss: 0.0686 - val_accuracy: 0.9747\n",
      "Epoch 49/50\n",
      "700/700 [==============================] - 1s 959us/step - loss: 0.0568 - accuracy: 0.9797 - val_loss: 0.0727 - val_accuracy: 0.9720\n",
      "Epoch 50/50\n",
      "700/700 [==============================] - 1s 972us/step - loss: 0.0571 - accuracy: 0.9803 - val_loss: 0.0681 - val_accuracy: 0.9747\n",
      "47/47 [==============================] - 0s 696us/step - loss: 0.0681 - accuracy: 0.9747\n",
      "Test loss: 0.06805174052715302\n",
      "Test accuracy: 0.9746666550636292\n"
     ]
    }
   ],
   "source": [
    "n_layers = 2\n",
    "model = create_custom_model(n_features, n_classes,4, n_layers)\n",
    "model.summary()\n",
    "\n",
    "callback = model.fit(X_train, Y_train,batch_size=5,epochs=50,validation_data=(X_test, Y_test))\n",
    "score = model.evaluate(X_test, Y_test)\n",
    "\n",
    "print('Test loss:', score[0])\n",
    "print('Test accuracy:', score[1])\n"
   ]
  },
  {
   "cell_type": "code",
   "execution_count": 89,
   "id": "f22b8507",
   "metadata": {},
   "outputs": [],
   "source": [
    "def get_shape(model):\n",
    "    weights_layer = model.get_weights()\n",
    "    shapes = []\n",
    "    for weights in weights_layer:\n",
    "        shapes.append(weights.shape)\n",
    "    return shapes\n",
    "def set_shape(weights,shapes):\n",
    "    new_weights = []\n",
    "    index=0\n",
    "    for shape in shapes:\n",
    "        if(len(shape)>1):\n",
    "            n_nodes = np.prod(shape)+index\n",
    "        else:\n",
    "            n_nodes=shape[0]+index\n",
    "        tmp = np.array(weights[index:n_nodes]).reshape(shape)\n",
    "        new_weights.append(tmp)\n",
    "        index=n_nodes\n",
    "    return new_weights"
   ]
  },
  {
   "cell_type": "code",
   "execution_count": 90,
   "id": "b44bf098",
   "metadata": {},
   "outputs": [],
   "source": [
    "def evaluate_nn(W, shape,X_train=X_train, Y_train=Y_train):\n",
    "    results = []\n",
    "    for weights in W:\n",
    "        model.set_weights(set_shape(weights,shape))\n",
    "        score = model.evaluate(X_train, Y_train, verbose=0)\n",
    "        results.append(1-score[1])\n",
    "    return results"
   ]
  },
  {
   "cell_type": "code",
   "execution_count": 91,
   "id": "8a956526",
   "metadata": {},
   "outputs": [],
   "source": [
    "shape = get_shape(model)\n",
    "x_max = 1.0 * np.ones(83)\n",
    "x_min = -1.0 * x_max\n",
    "bounds = (x_min, x_max)\n",
    "options = {'c1': 0.4, 'c2': 0.8, 'w': 0.4}\n",
    "optimizer = GlobalBestPSO(n_particles=25, dimensions=83,options=options, bounds=bounds)"
   ]
  },
  {
   "cell_type": "code",
   "execution_count": 92,
   "id": "c064d46e",
   "metadata": {},
   "outputs": [
    {
     "name": "stderr",
     "output_type": "stream",
     "text": [
      "2023-04-04 14:40:39,131 - pyswarms.single.global_best - INFO - Optimize for 15 iters with {'c1': 0.4, 'c2': 0.8, 'w': 0.4}\n",
      "pyswarms.single.global_best: 100%|█████████████████████████████████████████████████████████████|15/15, best_cost=0.0711\n",
      "2023-04-04 14:41:17,203 - pyswarms.single.global_best - INFO - Optimization finished | best cost: 0.07114285230636597, best pos: [ 0.07826162  0.08599353  0.36759123  0.33552982  0.4364281   0.10284238\n",
      " -0.17047119 -0.28294752 -0.06587384 -0.74869446  0.42570986 -0.36733672\n",
      " -0.18804828  0.23537119  0.28025729  0.54059031 -0.19130446  0.21255572\n",
      " -0.4416968   0.13830106  0.54101305  0.12174376  0.49533318 -0.20430659\n",
      " -0.66517986 -0.27894125  0.1397895   0.48863598  0.18637788  0.53230857\n",
      "  0.21285894  0.2650344   0.21655457  0.38780765  0.30921243 -0.75871579\n",
      " -0.42921225  0.03102575  0.57815825  0.47379541  0.43781004 -0.51722708\n",
      " -0.30614556 -0.0317794  -0.05788864  0.31467746  0.48668233  0.33408285\n",
      "  0.19928988  0.71918345  0.7300867   0.50376169  0.0440655   0.58750443\n",
      "  0.95712792 -0.13418771 -0.16202877  0.29414121  0.9608375  -0.12524642\n",
      "  0.42834455  0.72764082 -0.28381284  0.06905399  0.28136173  0.79860354\n",
      "  0.41401874  0.26556323  0.43376165  0.44990126  0.42250919  0.02592654\n",
      "  0.28742371  0.04564083 -0.70675884  0.10697294 -0.37761683  0.40120002\n",
      "  0.93621245  0.22356053  0.4155898  -0.26114312 -0.70129066]\n"
     ]
    },
    {
     "name": "stdout",
     "output_type": "stream",
     "text": [
      "47/47 [==============================] - 0s 674us/step - loss: 0.3373 - accuracy: 0.9180\n",
      "Test loss: 0.33733120560646057\n",
      "Test accuracy: 0.9179999828338623\n"
     ]
    }
   ],
   "source": [
    "cost, pos = optimizer.optimize(evaluate_nn, 15, X_train=X_train, Y_train=Y_train,shape=shape)\n",
    "model.set_weights(set_shape(pos,shape))\n",
    "score = model.evaluate(X_test, Y_test)\n",
    "print('Test loss:', score[0])\n",
    "print('Test accuracy:', score[1])"
   ]
  },
  {
   "cell_type": "code",
   "execution_count": null,
   "id": "94631c3b",
   "metadata": {},
   "outputs": [],
   "source": []
  }
 ],
 "metadata": {
  "kernelspec": {
   "display_name": "Python 3 (ipykernel)",
   "language": "python",
   "name": "python3"
  },
  "language_info": {
   "codemirror_mode": {
    "name": "ipython",
    "version": 3
   },
   "file_extension": ".py",
   "mimetype": "text/x-python",
   "name": "python",
   "nbconvert_exporter": "python",
   "pygments_lexer": "ipython3",
   "version": "3.11.2"
  }
 },
 "nbformat": 4,
 "nbformat_minor": 5
}
